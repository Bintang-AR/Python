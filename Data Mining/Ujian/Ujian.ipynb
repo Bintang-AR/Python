{
 "cells": [
  {
   "cell_type": "markdown",
   "id": "21546c0e",
   "metadata": {},
   "source": [
    "Andika Bintang Ramadhan"
   ]
  },
  {
   "cell_type": "markdown",
   "id": "b6755f44",
   "metadata": {},
   "source": [
    "231011403171"
   ]
  },
  {
   "cell_type": "markdown",
   "id": "776f9373",
   "metadata": {},
   "source": [
    "UTS"
   ]
  },
  {
   "cell_type": "markdown",
   "id": "630780ae",
   "metadata": {},
   "source": [
    "--------------"
   ]
  },
  {
   "cell_type": "code",
   "execution_count": 66,
   "id": "93a3ea38",
   "metadata": {},
   "outputs": [],
   "source": [
    "import pandas as pd"
   ]
  },
  {
   "cell_type": "code",
   "execution_count": 67,
   "id": "3117e69b",
   "metadata": {},
   "outputs": [
    {
     "data": {
      "text/html": [
       "<div>\n",
       "<style scoped>\n",
       "    .dataframe tbody tr th:only-of-type {\n",
       "        vertical-align: middle;\n",
       "    }\n",
       "\n",
       "    .dataframe tbody tr th {\n",
       "        vertical-align: top;\n",
       "    }\n",
       "\n",
       "    .dataframe thead th {\n",
       "        text-align: right;\n",
       "    }\n",
       "</style>\n",
       "<table border=\"1\" class=\"dataframe\">\n",
       "  <thead>\n",
       "    <tr style=\"text-align: right;\">\n",
       "      <th></th>\n",
       "      <th>umur</th>\n",
       "      <th>pendapatan</th>\n",
       "      <th>pembelian_tahunan</th>\n",
       "      <th>loyalitas</th>\n",
       "    </tr>\n",
       "  </thead>\n",
       "  <tbody>\n",
       "    <tr>\n",
       "      <th>0</th>\n",
       "      <td>58</td>\n",
       "      <td>77</td>\n",
       "      <td>6</td>\n",
       "      <td>Tidak Loyal</td>\n",
       "    </tr>\n",
       "    <tr>\n",
       "      <th>1</th>\n",
       "      <td>48</td>\n",
       "      <td>52</td>\n",
       "      <td>8</td>\n",
       "      <td>Tidak Loyal</td>\n",
       "    </tr>\n",
       "    <tr>\n",
       "      <th>2</th>\n",
       "      <td>34</td>\n",
       "      <td>91</td>\n",
       "      <td>5</td>\n",
       "      <td>Tidak Loyal</td>\n",
       "    </tr>\n",
       "    <tr>\n",
       "      <th>3</th>\n",
       "      <td>27</td>\n",
       "      <td>117</td>\n",
       "      <td>4</td>\n",
       "      <td>Tidak Loyal</td>\n",
       "    </tr>\n",
       "    <tr>\n",
       "      <th>4</th>\n",
       "      <td>40</td>\n",
       "      <td>66</td>\n",
       "      <td>2</td>\n",
       "      <td>Tidak Loyal</td>\n",
       "    </tr>\n",
       "  </tbody>\n",
       "</table>\n",
       "</div>"
      ],
      "text/plain": [
       "   umur  pendapatan  pembelian_tahunan    loyalitas\n",
       "0    58          77                  6  Tidak Loyal\n",
       "1    48          52                  8  Tidak Loyal\n",
       "2    34          91                  5  Tidak Loyal\n",
       "3    27         117                  4  Tidak Loyal\n",
       "4    40          66                  2  Tidak Loyal"
      ]
     },
     "execution_count": 67,
     "metadata": {},
     "output_type": "execute_result"
    }
   ],
   "source": [
    "df = pd.read_csv('data_pelanggan.csv')\n",
    "df.head()"
   ]
  },
  {
   "cell_type": "code",
   "execution_count": 68,
   "id": "5eb52e91",
   "metadata": {},
   "outputs": [],
   "source": [
    "df['loyalitas'] = df['loyalitas'].map({'Loyal': 1, 'Tidak Loyal': 0})"
   ]
  },
  {
   "cell_type": "markdown",
   "id": "7d7cc4b8",
   "metadata": {},
   "source": [
    "----------------"
   ]
  },
  {
   "cell_type": "code",
   "execution_count": 69,
   "id": "5558d5ee",
   "metadata": {},
   "outputs": [
    {
     "data": {
      "text/html": [
       "<div>\n",
       "<style scoped>\n",
       "    .dataframe tbody tr th:only-of-type {\n",
       "        vertical-align: middle;\n",
       "    }\n",
       "\n",
       "    .dataframe tbody tr th {\n",
       "        vertical-align: top;\n",
       "    }\n",
       "\n",
       "    .dataframe thead th {\n",
       "        text-align: right;\n",
       "    }\n",
       "</style>\n",
       "<table border=\"1\" class=\"dataframe\">\n",
       "  <thead>\n",
       "    <tr style=\"text-align: right;\">\n",
       "      <th></th>\n",
       "      <th>umur</th>\n",
       "      <th>pendapatan</th>\n",
       "      <th>pembelian_tahunan</th>\n",
       "      <th>loyalitas</th>\n",
       "    </tr>\n",
       "  </thead>\n",
       "  <tbody>\n",
       "    <tr>\n",
       "      <th>0</th>\n",
       "      <td>58</td>\n",
       "      <td>77</td>\n",
       "      <td>6</td>\n",
       "      <td>0</td>\n",
       "    </tr>\n",
       "    <tr>\n",
       "      <th>1</th>\n",
       "      <td>48</td>\n",
       "      <td>52</td>\n",
       "      <td>8</td>\n",
       "      <td>0</td>\n",
       "    </tr>\n",
       "    <tr>\n",
       "      <th>2</th>\n",
       "      <td>34</td>\n",
       "      <td>91</td>\n",
       "      <td>5</td>\n",
       "      <td>0</td>\n",
       "    </tr>\n",
       "    <tr>\n",
       "      <th>3</th>\n",
       "      <td>27</td>\n",
       "      <td>117</td>\n",
       "      <td>4</td>\n",
       "      <td>0</td>\n",
       "    </tr>\n",
       "    <tr>\n",
       "      <th>4</th>\n",
       "      <td>40</td>\n",
       "      <td>66</td>\n",
       "      <td>2</td>\n",
       "      <td>0</td>\n",
       "    </tr>\n",
       "  </tbody>\n",
       "</table>\n",
       "</div>"
      ],
      "text/plain": [
       "   umur  pendapatan  pembelian_tahunan  loyalitas\n",
       "0    58          77                  6          0\n",
       "1    48          52                  8          0\n",
       "2    34          91                  5          0\n",
       "3    27         117                  4          0\n",
       "4    40          66                  2          0"
      ]
     },
     "execution_count": 69,
     "metadata": {},
     "output_type": "execute_result"
    }
   ],
   "source": [
    "df.head()"
   ]
  },
  {
   "cell_type": "markdown",
   "id": "1115bfe5",
   "metadata": {},
   "source": [
    "Cek Missing Value"
   ]
  },
  {
   "cell_type": "code",
   "execution_count": 70,
   "id": "577808d9",
   "metadata": {},
   "outputs": [
    {
     "name": "stdout",
     "output_type": "stream",
     "text": [
      "<class 'pandas.core.frame.DataFrame'>\n",
      "RangeIndex: 100 entries, 0 to 99\n",
      "Data columns (total 4 columns):\n",
      " #   Column             Non-Null Count  Dtype\n",
      "---  ------             --------------  -----\n",
      " 0   umur               100 non-null    int64\n",
      " 1   pendapatan         100 non-null    int64\n",
      " 2   pembelian_tahunan  100 non-null    int64\n",
      " 3   loyalitas          100 non-null    int64\n",
      "dtypes: int64(4)\n",
      "memory usage: 3.3 KB\n",
      "\n",
      "Missing Value:\n",
      " umur                 0\n",
      "pendapatan           0\n",
      "pembelian_tahunan    0\n",
      "loyalitas            0\n",
      "dtype: int64\n"
     ]
    },
    {
     "data": {
      "text/plain": [
       "Index(['umur', 'pendapatan', 'pembelian_tahunan', 'loyalitas'], dtype='object')"
      ]
     },
     "execution_count": 70,
     "metadata": {},
     "output_type": "execute_result"
    }
   ],
   "source": [
    "df.info()\n",
    "print(\"\\nMissing Value:\\n\", df.isnull().sum())\n",
    "df.describe()\n",
    "df.columns"
   ]
  },
  {
   "cell_type": "markdown",
   "id": "2dd99f1d",
   "metadata": {},
   "source": [
    "-----------"
   ]
  },
  {
   "cell_type": "code",
   "execution_count": 71,
   "id": "a9e742f8",
   "metadata": {},
   "outputs": [],
   "source": [
    "import seaborn as sns\n",
    "import matplotlib.pyplot as plt"
   ]
  },
  {
   "cell_type": "code",
   "execution_count": 72,
   "id": "ce6d6263",
   "metadata": {},
   "outputs": [
    {
     "data": {
      "image/png": "[encoded data removed]",
      "text/plain": [
       "<Figure size 640x480 with 1 Axes>"
      ]
     },
     "metadata": {},
     "output_type": "display_data"
    },
    {
     "data": {
      "image/png": "[encoded data removed]",
      "text/plain": [
       "<Figure size 640x480 with 1 Axes>"
      ]
     },
     "metadata": {},
     "output_type": "display_data"
    }
   ],
   "source": [
    "df.groupby('pendapatan')['pembelian_tahunan'].sum().plot(kind='bar', title = 'Pembelian / Pendapatan')\n",
    "plt.ylabel('Total Pembelian')\n",
    "plt.show()\n",
    "\n",
    "sns.scatterplot(data = df, x = 'pendapatan', y = 'pembelian_tahunan')\n",
    "plt.title('Pendapatan VS Pembelian Tahunan')\n",
    "plt.show()"
   ]
  },
  {
   "cell_type": "markdown",
   "id": "9d59c905",
   "metadata": {},
   "source": [
    "--------------------"
   ]
  },
  {
   "cell_type": "markdown",
   "id": "009c0e8d",
   "metadata": {},
   "source": [
    "Klasifikasi Data"
   ]
  },
  {
   "cell_type": "markdown",
   "id": "0780de8d",
   "metadata": {},
   "source": [
    "Decision Tree"
   ]
  },
  {
   "cell_type": "code",
   "execution_count": 73,
   "id": "558a8b38",
   "metadata": {},
   "outputs": [],
   "source": [
    "from sklearn.tree import DecisionTreeClassifier\n",
    "from sklearn.model_selection import train_test_split\n",
    "from sklearn.metrics import classification_report, confusion_matrix"
   ]
  },
  {
   "cell_type": "code",
   "execution_count": 74,
   "id": "6cf92b12",
   "metadata": {},
   "outputs": [
    {
     "name": "stdout",
     "output_type": "stream",
     "text": [
      "Decision Tree\n",
      "Classification Report :\n",
      "               precision    recall  f1-score   support\n",
      "\n",
      "           1       1.00      1.00      1.00        30\n",
      "\n",
      "    accuracy                           1.00        30\n",
      "   macro avg       1.00      1.00      1.00        30\n",
      "weighted avg       1.00      1.00      1.00        30\n",
      "\n",
      "Confusion Matrix :\n",
      " [[30]]\n",
      "Label\n",
      "1    100\n",
      "Name: count, dtype: int64\n"
     ]
    },
    {
     "name": "stderr",
     "output_type": "stream",
     "text": [
      "c:\\Users\\BINTANG\\AppData\\Local\\Programs\\Python\\Python312\\Lib\\site-packages\\sklearn\\metrics\\_classification.py:407: UserWarning: A single label was found in 'y_true' and 'y_pred'. For the confusion matrix to have the correct shape, use the 'labels' parameter to pass all known labels.\n",
      "  warnings.warn(\n"
     ]
    }
   ],
   "source": [
    "df['Label'] = df ['pendapatan'].apply(lambda x : 1 if x > 0 else 0)\n",
    "features = df[['pembelian_tahunan', 'umur']].fillna(0)\n",
    "labels = df['Label']\n",
    "\n",
    "X_train, X_test, y_train, y_test, = train_test_split(features, labels, test_size=0.3, random_state=42)\n",
    "model = DecisionTreeClassifier()\n",
    "model.fit(X_train, y_train)\n",
    "y_pred = model.predict(X_test)\n",
    "\n",
    "print(\"Decision Tree\")\n",
    "print(\"Classification Report :\\n\", classification_report(y_test, y_pred))\n",
    "print(\"Confusion Matrix :\\n\", confusion_matrix(y_test, y_pred))\n",
    "print(df['Label'].value_counts())"
   ]
  },
  {
   "cell_type": "markdown",
   "id": "2ae4b383",
   "metadata": {},
   "source": [
    "--------------------"
   ]
  },
  {
   "cell_type": "markdown",
   "id": "2ae54274",
   "metadata": {},
   "source": [
    "KNN (K - Nearest Neighbour)"
   ]
  },
  {
   "cell_type": "code",
   "execution_count": 75,
   "id": "585eb5c7",
   "metadata": {},
   "outputs": [],
   "source": [
    "from sklearn.neighbors import KNeighborsClassifier"
   ]
  },
  {
   "cell_type": "code",
   "execution_count": 76,
   "id": "a0287b00",
   "metadata": {},
   "outputs": [
    {
     "name": "stdout",
     "output_type": "stream",
     "text": [
      "Decision Tree\n",
      "Classification Report :\n",
      "               precision    recall  f1-score   support\n",
      "\n",
      "           1       1.00      1.00      1.00        30\n",
      "\n",
      "    accuracy                           1.00        30\n",
      "   macro avg       1.00      1.00      1.00        30\n",
      "weighted avg       1.00      1.00      1.00        30\n",
      "\n"
     ]
    },
    {
     "name": "stderr",
     "output_type": "stream",
     "text": [
      "c:\\Users\\BINTANG\\AppData\\Local\\Programs\\Python\\Python312\\Lib\\site-packages\\sklearn\\metrics\\_classification.py:407: UserWarning: A single label was found in 'y_true' and 'y_pred'. For the confusion matrix to have the correct shape, use the 'labels' parameter to pass all known labels.\n",
      "  warnings.warn(\n"
     ]
    },
    {
     "name": "stdout",
     "output_type": "stream",
     "text": [
      "Confusion Matrix :\n",
      " [[30]]\n",
      "Label\n",
      "1    100\n",
      "Name: count, dtype: int64\n"
     ]
    }
   ],
   "source": [
    "df['Label'] = df ['pembelian_tahunan'].apply(lambda x : 1 if x > 0 else 0)\n",
    "features = df[['pendapatan', 'umur']].fillna(0)\n",
    "labels = df['Label']\n",
    "\n",
    "X_train, X_test, y_train, y_test, = train_test_split(features, labels, test_size=0.3, random_state=42)\n",
    "model = KNeighborsClassifier()\n",
    "model.fit(X_train, y_train)\n",
    "y_pred = model.predict(X_test)\n",
    "\n",
    "print(\"Decision Tree\")\n",
    "print(\"Classification Report :\\n\", classification_report(y_test, y_pred))\n",
    "print(\"Confusion Matrix :\\n\", confusion_matrix(y_test, y_pred))\n",
    "print(df['Label'].value_counts())"
   ]
  },
  {
   "cell_type": "markdown",
   "id": "fd9cf2bb",
   "metadata": {},
   "source": [
    "----------------"
   ]
  },
  {
   "cell_type": "markdown",
   "id": "ff4dd77d",
   "metadata": {},
   "source": [
    "Perbandingan Kedua Metode"
   ]
  },
  {
   "cell_type": "markdown",
   "id": "e13d608f",
   "metadata": {},
   "source": [
    "a. Kedua model sama sama menghasilkan akurasi 100% untuk klasifikasinya "
   ]
  },
  {
   "cell_type": "markdown",
   "id": "d64c85d6",
   "metadata": {},
   "source": [
    "b. Hasil keduanya cenderung konsisten dalam mengklasifikasikan dataset dengan menghasilkan akurasi 100%"
   ]
  },
  {
   "cell_type": "markdown",
   "id": "e6bec991",
   "metadata": {},
   "source": [
    "----------------"
   ]
  },
  {
   "cell_type": "markdown",
   "id": "90b2311c",
   "metadata": {},
   "source": [
    "Kesimpulan\n"
   ]
  },
  {
   "cell_type": "markdown",
   "id": "4f985963",
   "metadata": {},
   "source": [
    "Kedua metode baik Decision Tree dan KNN (K - Nearest Neighbour) sama sama memiliki akurasi 100% dalam mengklasifikasikan dataset tersebut meskipun algoritma keduanya berbeda."
   ]
  }
 ],
 "metadata": {
  "kernelspec": {
   "display_name": "Python 3",
   "language": "python",
   "name": "python3"
  },
  "language_info": {
   "codemirror_mode": {
    "name": "ipython",
    "version": 3
   },
   "file_extension": ".py",
   "mimetype": "text/x-python",
   "name": "python",
   "nbconvert_exporter": "python",
   "pygments_lexer": "ipython3",
   "version": "3.12.0"
  }
 },
 "nbformat": 4,
 "nbformat_minor": 5
}
